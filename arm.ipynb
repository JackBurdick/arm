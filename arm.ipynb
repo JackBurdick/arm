{
 "cells": [
  {
   "cell_type": "markdown",
   "metadata": {},
   "source": [
    "# Continuous Control"
   ]
  },
  {
   "cell_type": "code",
   "execution_count": 1,
   "metadata": {},
   "outputs": [],
   "source": [
    "%load_ext autoreload\n",
    "%autoreload 2"
   ]
  },
  {
   "cell_type": "code",
   "execution_count": 2,
   "metadata": {},
   "outputs": [],
   "source": [
    "import matplotlib.pyplot as plt\n",
    "import numpy as np\n",
    "import pickle\n",
    "\n",
    "from hydra import initialize, compose\n",
    "from hydra.utils import instantiate\n"
   ]
  },
  {
   "cell_type": "code",
   "execution_count": 3,
   "metadata": {},
   "outputs": [
    {
     "name": "stdout",
     "output_type": "stream",
     "text": [
      "{'trainer': {'_target_': 'trainer.Trainer', 'n_episodes': 1000, 'max_t': 3000, 'batch_size': 64, 'gamma': 0.99, 'tau': 0.001, 'n_agents': 20, 'run_headless': True, 'print_setup': True, 'print_every': 10, 'target_score': 31, 'window_size': 100, 'scores_path': 'scores.pkl', 'buffer_size': 1000000, 'agent_cfg': {'actor': {'lr': 0.0001, 'hidden_units': [512, 256, 128, 64]}, 'critic': {'lr': 0.0003, 'weight_decay': 0, 'fc_1': 384, 'fc_2': 256, 'fc_3': 128}, 'eps': {'init': 1.0, 'end': 0.01, 'decay': 0.995}, 'learn_iterations': 15, 'update_every': 10, 'seed': 2}, 'oun_cfg': {'mu': 0.0, 'theta': 0.15, 'sigma': 0.2}}}\n"
     ]
    }
   ],
   "source": [
    "with initialize(version_base=None, config_path=\"conf\"):\n",
    "    cfg = compose(config_name=\"config.yaml\")\n",
    "    print(cfg)"
   ]
  },
  {
   "cell_type": "code",
   "execution_count": 4,
   "metadata": {},
   "outputs": [
    {
     "name": "stderr",
     "output_type": "stream",
     "text": [
      "INFO:unityagents:\n",
      "'Academy' started successfully!\n",
      "Unity Academy name: Academy\n",
      "        Number of Brains: 1\n",
      "        Number of External Brains : 1\n",
      "        Lesson number : 0\n",
      "        Reset Parameters :\n",
      "\t\tgoal_speed -> 1.0\n",
      "\t\tgoal_size -> 5.0\n",
      "Unity brain name: ReacherBrain\n",
      "        Number of Visual Observations (per agent): 0\n",
      "        Vector Observation space type: continuous\n",
      "        Vector Observation space size (per agent): 33\n",
      "        Number of stacked Vector Observation: 1\n",
      "        Vector Action space type: continuous\n",
      "        Vector Action space size (per agent): 4\n",
      "        Vector Action descriptions: , , , \n"
     ]
    },
    {
     "name": "stdout",
     "output_type": "stream",
     "text": [
      "num agents: 20\n",
      "state_size: 33\n",
      "action_size: 4\n",
      "example states:\n",
      " [ 0.00000000e+00 -4.00000000e+00  0.00000000e+00  1.00000000e+00\n",
      " -0.00000000e+00 -0.00000000e+00 -4.37113883e-08  0.00000000e+00\n",
      "  0.00000000e+00  0.00000000e+00  0.00000000e+00  0.00000000e+00\n",
      "  0.00000000e+00  0.00000000e+00 -1.00000000e+01  0.00000000e+00\n",
      "  1.00000000e+00 -0.00000000e+00 -0.00000000e+00 -4.37113883e-08\n",
      "  0.00000000e+00  0.00000000e+00  0.00000000e+00  0.00000000e+00\n",
      "  0.00000000e+00  0.00000000e+00  5.75471878e+00 -1.00000000e+00\n",
      "  5.55726624e+00  0.00000000e+00  1.00000000e+00  0.00000000e+00\n",
      " -1.68164849e-01]\n"
     ]
    }
   ],
   "source": [
    "t = instantiate(cfg.trainer)"
   ]
  },
  {
   "cell_type": "code",
   "execution_count": 5,
   "metadata": {},
   "outputs": [
    {
     "name": "stdout",
     "output_type": "stream",
     "text": [
      "E 10\tAvg Score: 0.79793,\t\tLast Score:  1.499\n",
      "E 20\tAvg Score: 1.77768,\t\tLast Score:  4.696\n",
      "E 30\tAvg Score: 3.83827,\t\tLast Score:  12.154\n",
      "E 40\tAvg Score: 8.27271,\t\tLast Score:  27.613\n",
      "E 50\tAvg Score: 13.11113,\t\tLast Score:  36.950\n",
      "E 60\tAvg Score: 17.08080,\t\tLast Score:  36.428\n",
      "E 70\tAvg Score: 20.06060,\t\tLast Score:  38.796\n",
      "E 80\tAvg Score: 22.21214,\t\tLast Score:  37.756\n",
      "E 90\tAvg Score: 23.84843,\t\tLast Score:  37.791\n",
      "E 100\tAvg Score: 24.95953,\t\tLast Score:  31.115\n",
      "E 110\tAvg Score: 27.99991,\t\tLast Score:  35.402\n",
      "E 120\tAvg Score: 31.22224,\t\tLast Score:  34.029\n",
      "\n",
      "Env solved in 120 episodes!\tAvg Score: 31.22\n",
      "params saved: ./params/best_params_31_....\n",
      "done\n"
     ]
    }
   ],
   "source": [
    "# train agent\n",
    "scores = t.train()\n",
    "print(f\"done\")"
   ]
  },
  {
   "cell_type": "markdown",
   "metadata": {},
   "source": []
  },
  {
   "cell_type": "code",
   "execution_count": 6,
   "metadata": {},
   "outputs": [
    {
     "name": "stdout",
     "output_type": "stream",
     "text": [
      "env closed\n"
     ]
    }
   ],
   "source": [
    "t.cleanup()"
   ]
  },
  {
   "cell_type": "code",
   "execution_count": 7,
   "metadata": {},
   "outputs": [],
   "source": [
    "with open(cfg.trainer.scores_path, \"rb\") as f:\n",
    "    scores = pickle.load(f)"
   ]
  },
  {
   "cell_type": "code",
   "execution_count": 8,
   "metadata": {},
   "outputs": [
    {
     "data": {
      "text/plain": [
       "[<matplotlib.lines.Line2D at 0x7feef108b128>]"
      ]
     },
     "execution_count": 8,
     "metadata": {},
     "output_type": "execute_result"
    },
    {
     "data": {
      "image/png": "[encoded data removed]",
      "text/plain": [
       "<Figure size 432x288 with 1 Axes>"
      ]
     },
     "metadata": {
      "needs_background": "light"
     },
     "output_type": "display_data"
    }
   ],
   "source": [
    "plt.plot(scores)"
   ]
  },
  {
   "cell_type": "code",
   "execution_count": 9,
   "metadata": {},
   "outputs": [
    {
     "data": {
      "text/plain": [
       "[<matplotlib.lines.Line2D at 0x7feef0f8d3c8>]"
      ]
     },
     "execution_count": 9,
     "metadata": {},
     "output_type": "execute_result"
    },
    {
     "data": {
      "image/png": "[encoded data removed]",
      "text/plain": [
       "<Figure size 432x288 with 1 Axes>"
      ]
     },
     "metadata": {
      "needs_background": "light"
     },
     "output_type": "display_data"
    }
   ],
   "source": [
    "WINDOW_N = 5\n",
    "smooth = np.convolve(scores, np.ones(WINDOW_N)/WINDOW_N, mode='valid')\n",
    "plt.plot(smooth)"
   ]
  }
 ],
 "metadata": {
  "kernelspec": {
   "display_name": "daily",
   "language": "python",
   "name": "daily"
  },
  "language_info": {
   "codemirror_mode": {
    "name": "ipython",
    "version": 3
   },
   "file_extension": ".py",
   "mimetype": "text/x-python",
   "name": "python",
   "nbconvert_exporter": "python",
   "pygments_lexer": "ipython3",
   "version": "3.6.5"
  }
 },
 "nbformat": 4,
 "nbformat_minor": 2
}
